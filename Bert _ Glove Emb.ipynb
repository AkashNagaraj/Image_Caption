{
 "cells": [
  {
   "cell_type": "markdown",
   "metadata": {},
   "source": [
    "Import Libraries"
   ]
  },
  {
   "cell_type": "code",
   "execution_count": 63,
   "metadata": {
    "scrolled": true
   },
   "outputs": [],
   "source": [
    "import warnings\n",
    "import os\n",
    "warnings.filterwarnings('ignore')\n",
    "\n",
    "\n",
    "import torch\n",
    "import torch.nn as nn\n",
    "import torch.nn.functional as F\n",
    "\n",
    "import statistics, math\n",
    "import numpy as np\n",
    "from numpy import savetxt\n",
    "import pickle\n",
    "from transformers import BertTokenizer, BertModel"
   ]
  },
  {
   "cell_type": "code",
   "execution_count": 8,
   "metadata": {},
   "outputs": [],
   "source": [
    "def read_path():\n",
    "    image_path = 'sentence'\n",
    "    sub_dir = os.listdir(image_path)\n",
    "    path = [image_path+'/'+str(sub)+'/'+str(sub_path) for sub in sub_dir for sub_path in os.listdir(image_path+'/'+str(sub))]\n",
    "    return(path)"
   ]
  },
  {
   "cell_type": "code",
   "execution_count": 43,
   "metadata": {},
   "outputs": [],
   "source": [
    "def read_data(paths):\n",
    "    train_sent, result_sent = [], []\n",
    "    for val in paths[:5]:\n",
    "        data = open(val).read().split('\\n')\n",
    "        train_sent += data[:-3]\n",
    "        result_sent.append(data[-2]) # Snce last value is an empty string\n",
    "    return train_sent, result_sent"
   ]
  },
  {
   "cell_type": "code",
   "execution_count": 49,
   "metadata": {},
   "outputs": [],
   "source": [
    "def get_length(S1, S2):\n",
    "    Sent = S1 + S2\n",
    "    length = [len(val.split(' ')) for val in Sent]\n",
    "    return length"
   ]
  },
  {
   "cell_type": "code",
   "execution_count": null,
   "metadata": {},
   "outputs": [],
   "source": [
    "def get_embeddings()"
   ]
  },
  {
   "cell_type": "raw",
   "metadata": {},
   "source": [
    "Bert Embeddings"
   ]
  },
  {
   "cell_type": "code",
   "execution_count": 2,
   "metadata": {},
   "outputs": [],
   "source": [
    "def BERT_emb(text):\n",
    "    tokenizer = BertTokenizer.from_pretrained(\"bert-base-uncased\")\n",
    "    tokens = torch.tensor([tokenizer.encode(text, add_special_tokens = True)])\n",
    "    model = BertModel.from_pretrained(\"bert-base-uncased\")\n",
    "    embeddings = model(tokens)[0]\n",
    "    return embeddings "
   ]
  },
  {
   "cell_type": "raw",
   "metadata": {},
   "source": [
    "Glove Embeddings "
   ]
  },
  {
   "cell_type": "code",
   "execution_count": 3,
   "metadata": {},
   "outputs": [],
   "source": [
    "def Glove_emb(text):\n",
    "    words = []\n",
    "    idx = 0\n",
    "    word_to_idx = {}\n",
    "    glove_path = os.getcwd()\n",
    "    vectors = []\n",
    "\n",
    "    file_ = open(f'{glove_path}/glove.6B.50d.txt', 'rb').readlines()\n",
    "    for l in file_[:300]:\n",
    "        line = l.decode().split()\n",
    "        word = line[0]\n",
    "        words.append(word)\n",
    "        word_to_idx[word] = idx\n",
    "        idx += 1\n",
    "        vect = line[1:]\n",
    "        vectors += vect\n",
    "        \n",
    "    np_vectors = np.reshape(np.asarray(vectors, dtype=np.float), (-1,50), 'C')\n",
    "    pickle.dump(np_vectors, open(f'{glove_path}/6B.50_data.pkl', 'wb'))\n",
    "    pickle.dump(words, open(f'{glove_path}/6B.50_words.pkl', 'wb'))\n",
    "    pickle.dump(word_to_idx, open(f'{glove_path}/6B.50_idx.pkl', 'wb'))\n",
    "    #print('The string : {} has vector : {}'.format(words[0], np_vectors[0]))\n",
    "    vectors = pickle.load(open(f'{glove_path}/6B.50_data.pkl', 'rb'))\n",
    "    words = pickle.load(open(f'{glove_path}/6B.50_words.pkl', 'rb'))\n",
    "    word2idx = pickle.load(open(f'{glove_path}/6B.50_idx.pkl', 'rb'))\n",
    "\n",
    "    glove = {w: vectors[word2idx[w]] for w in words}\n",
    "    tokens = text.lower().split()\n",
    "    glove_tokens = torch.tensor([glove[val] for val in tokens], dtype = torch.long)\n",
    "    return glove_tokens"
   ]
  },
  {
   "cell_type": "code",
   "execution_count": 4,
   "metadata": {},
   "outputs": [],
   "source": [
    "def check(G,B,sent_len):\n",
    "    n = int(np.ceil(B.shape[2]/sent_len))\n",
    "    B_new = torch.zeros(9,n*sent_len)\n",
    "    B_new[:,:B.shape[2]] = B[0]\n",
    "    print('Glove : {}'.format(G.shape))\n",
    "    print('BERT : {}'.format(B_new.shape))\n",
    "    return B_new, G"
   ]
  },
  {
   "cell_type": "raw",
   "metadata": {},
   "source": [
    "Model"
   ]
  },
  {
   "cell_type": "code",
   "execution_count": 5,
   "metadata": {},
   "outputs": [],
   "source": [
    "class Feedforward(torch.nn.Module):\n",
    "        def __init__(self, input_size, hidden_size):\n",
    "            super(Feedforward, self).__init__()\n",
    "            self.input_size = input_size\n",
    "            self.hidden_size  = hidden_size\n",
    "            self.fc1 = torch.nn.Linear(770, 128)\n",
    "            self.relu = torch.nn.ReLU()\n",
    "            self.fc2 = torch.nn.Linear(128, 50)\n",
    "            self.fc3 = torch.nn.Linear(50, 10)\n",
    "            self.sigmoid = torch.nn.Sigmoid()        \n",
    "        \n",
    "        def forward(self, x):\n",
    "            hidden = self.fc1(x)\n",
    "            relu = self.relu(hidden)\n",
    "            output = self.fc2(relu)\n",
    "            output = self.relu(self.fc3(output))\n",
    "            output = self.sigmoid(output)\n",
    "            return output"
   ]
  },
  {
   "cell_type": "code",
   "execution_count": 6,
   "metadata": {},
   "outputs": [],
   "source": [
    "def forward(X,Y):\n",
    "    model1 = Feedforward(128,128) #(input, hidden)\n",
    "    val = model1(X)\n",
    "\n",
    "    return val"
   ]
  },
  {
   "cell_type": "code",
   "execution_count": 65,
   "metadata": {},
   "outputs": [],
   "source": [
    "def main():\n",
    "    text = \"Top university members found help in history\"\n",
    "    paths = read_path()\n",
    "    train_sent, result_sent = read_data(paths)\n",
    "    len_ = get_length(train_sent, result_sent)\n",
    "    max_len = math.ceil(statistics.mean(len_) + max(len_)/len(len_))\n",
    "    get_embeddings(train_sent, result_sent, max_len)\n",
    "    print(max_len)\n",
    "    \"\"\"\n",
    "    B = BERT_emb(text)\n",
    "    G = Glove_emb(text)\n",
    "    X, Y = check(G,B,G.shape[0])\n",
    "    X, Y = X.type(torch.FloatTensor), Y.type(torch.FloatTensor)\n",
    "    output = forward(X, Y)\n",
    "    print(output.shape)\n",
    "    \"\"\""
   ]
  },
  {
   "cell_type": "code",
   "execution_count": 64,
   "metadata": {
    "scrolled": true
   },
   "outputs": [
    {
     "name": "stdout",
     "output_type": "stream",
     "text": [
      "11\n"
     ]
    }
   ],
   "source": [
    "if __name__ == \"__main__\":\n",
    "    main()"
   ]
  },
  {
   "cell_type": "code",
   "execution_count": null,
   "metadata": {},
   "outputs": [],
   "source": []
  },
  {
   "cell_type": "code",
   "execution_count": null,
   "metadata": {},
   "outputs": [],
   "source": []
  }
 ],
 "metadata": {
  "kernelspec": {
   "display_name": "Python 3",
   "language": "python",
   "name": "python3"
  },
  "language_info": {
   "codemirror_mode": {
    "name": "ipython",
    "version": 3
   },
   "file_extension": ".py",
   "mimetype": "text/x-python",
   "name": "python",
   "nbconvert_exporter": "python",
   "pygments_lexer": "ipython3",
   "version": "3.7.7"
  }
 },
 "nbformat": 4,
 "nbformat_minor": 2
}
